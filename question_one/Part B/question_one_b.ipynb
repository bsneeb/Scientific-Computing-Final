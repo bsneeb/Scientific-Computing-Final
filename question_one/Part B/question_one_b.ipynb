{
 "cells": [
  {
   "cell_type": "markdown",
   "metadata": {},
   "source": [
    "# Brady Neeb\n",
    "# Scientific Computing Final Question #1, part b)\n",
    "##### https://www.youtube.com/watch?v=lZEI36_Bsv4 As a reference when building this notebook"
   ]
  },
  {
   "cell_type": "code",
   "execution_count": 2,
   "metadata": {},
   "outputs": [],
   "source": [
    "import numpy as np\n",
    "import matplotlib.pyplot as plt\n",
    "%matplotlib inline\n"
   ]
  },
  {
   "cell_type": "code",
   "execution_count": 10,
   "metadata": {},
   "outputs": [
    {
     "data": {
      "image/png": "[encoded data removed]",
      "text/plain": [
       "<Figure size 432x288 with 1 Axes>"
      ]
     },
     "metadata": {
      "needs_background": "light"
     },
     "output_type": "display_data"
    }
   ],
   "source": [
    "# Store and plot initial points\n",
    "\n",
    "x = np.array([0, 2, 3, 4])  # Had to add point (0, 0) to the array to prevent error. This point is cut off later on in the code.\n",
    "y = np.array([0, 2, 5, 1])\n",
    "\n",
    "from gekko import GEKKO\n",
    "m = GEKKO()\n",
    "m.x = m.Param(value=np.linspace(2, 4))\n",
    "m.y = m.Var()\n",
    "m.cspline(m.x, m.y, x, y)\n",
    "m.options.IMODE=2\n",
    "m.solve(disp=False)\n",
    "\n",
    "plt.plot(x, y, 'o', label='Data')\n",
    "plt.plot(m.x, m.y, 'r--', label='cubic spline')\n",
    "plt.xlim(1, 5)\n",
    "plt.show()\n"
   ]
  },
  {
   "cell_type": "markdown",
   "metadata": {},
   "source": [
    "### We now have an interpolated plot. As you can see in cubic_splines_check.png, I solved the interpolation using an online calculator to check if our plots were similar. This shows us that we have a sound interpolation solved from the code above."
   ]
  }
 ],
 "metadata": {
  "interpreter": {
   "hash": "2a9d1615990eaacd25fb244522d5cc14791a840b56d530fc826f8632ea92f1da"
  },
  "kernelspec": {
   "display_name": "Python 3.10.1 64-bit",
   "language": "python",
   "name": "python3"
  },
  "language_info": {
   "codemirror_mode": {
    "name": "ipython",
    "version": 3
   },
   "file_extension": ".py",
   "mimetype": "text/x-python",
   "name": "python",
   "nbconvert_exporter": "python",
   "pygments_lexer": "ipython3",
   "version": "3.10.1"
  },
  "orig_nbformat": 4
 },
 "nbformat": 4,
 "nbformat_minor": 2
}
