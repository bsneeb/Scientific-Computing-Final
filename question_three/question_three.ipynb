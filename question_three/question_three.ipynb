{
 "cells": [
  {
   "cell_type": "code",
   "execution_count": 1,
   "metadata": {},
   "outputs": [
    {
     "data": {
      "text/plain": [
       "\"\\n    Brady Neeb\\n    bneeb@mail.smcvt.edu\\n    Final Question #3\\n    Give a table for the errors in the integrals:\\n        i) cos(x) [0 .. pi/4]\\n        ii) sqrt(x) [1 .. 100]\\n    Use n=1 .. n=10^6 many intervals.\\n    Then, for each, compare the change in error to that predicted by our theoretical result\\n    a) Use the Midpoint rule\\n    b) Use the Trapezoid rule\\n    c) Use Simpson's rule\\n\""
      ]
     },
     "execution_count": 1,
     "metadata": {},
     "output_type": "execute_result"
    }
   ],
   "source": [
    "'''\n",
    "    Brady Neeb\n",
    "    bneeb@mail.smcvt.edu\n",
    "    Final Question #3\n",
    "    Give a table for the errors in the integrals:\n",
    "        i) cos(x) [0 .. pi/4]\n",
    "        ii) sqrt(x) [1 .. 100]\n",
    "    Use n=1 .. n=10^6 many intervals.\n",
    "    Then, for each, compare the change in error to that predicted by our theoretical result\n",
    "    a) Use the Midpoint rule\n",
    "    b) Use the Trapezoid rule\n",
    "    c) Use Simpson's rule\n",
    "'''"
   ]
  },
  {
   "cell_type": "code",
   "execution_count": 2,
   "metadata": {},
   "outputs": [],
   "source": [
    "# First, make the integration functions\n",
    "import numpy as np\n",
    "\n",
    "def midpoint(a, b):\n",
    "    return (a+b)/2\n",
    "\n",
    "def trapezoid(a, b, n):\n",
    "#     return sqrt(a^2 - b^2)\n",
    "    return (1/2)*((b-a) / n)\n",
    "\n",
    "def simpsons(f, a, b, n):\n",
    "    h = (b-a)/n\n",
    "    k = 0\n",
    "    x = a\n",
    "    for i in range(1, n/2+1):\n",
    "        x = x + 2*h\n",
    "        k = k + 4*f(x)\n",
    "    x = a + 2*h\n",
    "    for i in range(1, n/2):\n",
    "        k = k + 2*f(x)\n",
    "        x = x + 2*h\n",
    "    \n",
    "    return (h/3) * (f(a) + f(b) + k)\n",
    "\n",
    "def integral(f, a, b, n, choose_xi=midpoint):\n",
    "    ''' Params:\n",
    "            f: Function to be calculated\n",
    "            a: Starting point of the interval\n",
    "            b: Ending point of the interval\n",
    "            n: Size of area to be calculated \n",
    "            choose_xi: Choice of calculation method.\n",
    "    '''\n",
    " \n",
    "    h = (b-a) / n\n",
    "    int_start = a\n",
    "    int_end = a + h\n",
    "    total = 0\n",
    "    \n",
    "    for i in range(0, n):\n",
    "        \n",
    "        subinterval_start = a+i*h\n",
    "        subinterval_end = subinterval_start + h\n",
    "        \n",
    "        if choose_xi == simpsons:\n",
    "            xi = choose_xi(f, subinterval_start, subinterval_end, n)\n",
    "            \n",
    "        elif choose_xi == trapezoid:\n",
    "            xi = choose_xi(subinterval_start, subinterval_end, n)\n",
    "            \n",
    "        else: \n",
    "            xi = choose_xi(subinterval_start, subinterval_end)\n",
    "            \n",
    "        total = total + f(xi) * h\n",
    "        \n",
    "    return total.n()"
   ]
  },
  {
   "cell_type": "code",
   "execution_count": 3,
   "metadata": {},
   "outputs": [],
   "source": [
    "INTEGRAL_TABLE_TOLERANCE = n(10^(-10))\n",
    "def generate_integral_table(f, a, b, choose_xi=midpoint, smallest_mag_step_size=-6, correct=None):\n",
    "    for power in range(-1*smallest_mag_step_size):\n",
    "        num_ints = 10**power\n",
    "        estimate = integral(f, a, b, num_ints, choose_xi)\n",
    "        print(\"number_intervals = \",num_ints,\" integral estimate =\", estimate)\n",
    "        if correct:\n",
    "            print(\"  error=\", estimate-correct)\n",
    "            if (estimate and (abs(estimate - correct)) < INTEGRAL_TABLE_TOLERANCE):\n",
    "                print(\"  Estimate and correct value are within \", INTEGRAL_TABLE_TOLERANCE)\n",
    "                break\n",
    "          "
   ]
  },
  {
   "cell_type": "code",
   "execution_count": 5,
   "metadata": {},
   "outputs": [
    {
     "name": "stderr",
     "output_type": "stream",
     "text": [
      "/opt/sagemath-9.2/local/lib/python3.7/site-packages/sage/repl/ipython_kernel/__main__.py:5: DeprecationWarning: Substitution using function-call syntax and unnamed arguments is deprecated and will be removed from a future release of Sage; you can use named arguments instead, like EXPR(x=..., y=...)\n",
      "See http://trac.sagemath.org/5930 for details.\n"
     ]
    },
    {
     "name": "stdout",
     "output_type": "stream",
     "text": [
      "number_intervals =  1  integral estimate = 0.725613288034858\n",
      "  error= 0.0185065068483102\n",
      "number_intervals =  10  integral estimate = 0.707288555144981\n",
      "  error= 0.000181773958433551\n",
      "number_intervals =  100  integral estimate = 0.707108598602370\n",
      "  error= 1.81741582216954e-6\n",
      "number_intervals =  1000  integral estimate = 0.707106799360674\n",
      "  error= 1.81741266480628e-8\n"
     ]
    }
   ],
   "source": [
    "# cos(x) on range [0 .. pi/4] with n = [1 .. 10^6] many intervals\n",
    "\n",
    "# Midpoint\n",
    "f = cos(x)\n",
    "a = 0\n",
    "b = pi/4\n",
    "choose_xi = midpoint\n",
    "correct = 0.7071067811865475\n",
    "\n",
    "generate_integral_table(f, a, b, choose_xi, smallest_mag_step_size=-4, correct=correct)\n"
   ]
  },
  {
   "cell_type": "code",
   "execution_count": 77,
   "metadata": {},
   "outputs": [
    {
     "name": "stdout",
     "output_type": "stream",
     "text": [
      "0.785398162791857\n"
     ]
    },
    {
     "name": "stderr",
     "output_type": "stream",
     "text": [
      "/opt/sagemath-9.2/local/lib/python3.7/site-packages/sage/repl/ipython_kernel/__main__.py:1: DeprecationWarning: Substitution using function-call syntax and unnamed arguments is deprecated and will be removed from a future release of Sage; you can use named arguments instead, like EXPR(x=..., y=...)\n",
      "See http://trac.sagemath.org/5930 for details.\n",
      "  from ipykernel.kernelapp import IPKernelApp\n"
     ]
    }
   ],
   "source": [
    "print(integral(f, a, b, 100, choose_xi=trapezoid))"
   ]
  },
  {
   "cell_type": "code",
   "execution_count": null,
   "metadata": {},
   "outputs": [],
   "source": [
    "# cos(x) on range [0 .. pi/4] with n = [1 .. 10^6] many intervals\n",
    "\n",
    "# Trapezoid\n",
    "f = cos(x)\n",
    "a = 0\n",
    "b = pi/4\n",
    "choose_xi = trapezoid\n",
    "correct = 0.7071067811865475\n",
    "\n",
    "generate_integral_table(f, a, b, choose_xi, correct=correct)"
   ]
  }
 ],
 "metadata": {
  "kernelspec": {
   "display_name": "SageMath 9.2",
   "language": "sage",
   "name": "sagemath"
  },
  "language_info": {
   "codemirror_mode": {
    "name": "ipython",
    "version": 3
   },
   "file_extension": ".py",
   "mimetype": "text/x-python",
   "name": "python",
   "nbconvert_exporter": "python",
   "pygments_lexer": "ipython3",
   "version": "3.7.7"
  }
 },
 "nbformat": 4,
 "nbformat_minor": 4
}
