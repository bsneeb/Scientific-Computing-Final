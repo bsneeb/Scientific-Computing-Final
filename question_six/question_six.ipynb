{
 "cells": [
  {
   "cell_type": "code",
   "execution_count": 56,
   "metadata": {},
   "outputs": [
    {
     "data": {
      "text/plain": [
       "'\\n    Brady Neeb\\n    bneeb@mail.smcvt.edu\\n    Final Question #6\\n    Find the derivative of f(x) = tan(x^2 + 2x + 1) at x=0. Give the table comparing the result you get by \\n    approximating using the difference quotient. Use a range of h from 10^-1 to 10^-8\\n'"
      ]
     },
     "execution_count": 56,
     "metadata": {},
     "output_type": "execute_result"
    }
   ],
   "source": [
    "'''\n",
    "    Brady Neeb\n",
    "    bneeb@mail.smcvt.edu\n",
    "    Final Question #6\n",
    "    Find the derivative of f(x) = tan(x^2 + 2x + 1) at x=0. Give the table comparing the result you get by \n",
    "    approximating using the difference quotient. Use a range of h from 10^-1 to 10^-8\n",
    "'''"
   ]
  },
  {
   "cell_type": "code",
   "execution_count": 57,
   "metadata": {},
   "outputs": [
    {
     "data": {
      "image/png": "[encoded data removed]",
      "text/plain": [
       "Graphics object consisting of 1 graphics primitive"
      ]
     },
     "execution_count": 57,
     "metadata": {},
     "output_type": "execute_result"
    }
   ],
   "source": [
    "# Define and plot the initial function\n",
    "\n",
    "def f(x):\n",
    "    return tan(x^2 + (2*x) + 1)\n",
    "\n",
    "var('x')\n",
    "plot(f(x), x, -.25, .25)"
   ]
  },
  {
   "cell_type": "code",
   "execution_count": 58,
   "metadata": {},
   "outputs": [
    {
     "name": "stdout",
     "output_type": "stream",
     "text": [
      "2*(tan(x^2 + 2*x + 1)^2 + 1)*(x + 1)\n",
      "0\n"
     ]
    }
   ],
   "source": [
    "# Calculate and plot the derivative\n",
    "\n",
    "ddx = derivative(f(x), x)\n",
    "print(ddx)\n",
    "plot(ddx, x, -.15, .15)\n",
    "\n",
    "ddx_at_zero = derivative(f(0), x)\n",
    "print(ddx_at_zero)\n"
   ]
  },
  {
   "cell_type": "code",
   "execution_count": 59,
   "metadata": {},
   "outputs": [
    {
     "name": "stdout",
     "output_type": "stream",
     "text": [
      "h=1 | difference quotient: -0.399586442305325 | Full Equation: tan(4) - tan(1) | Error: 0.399586442305325\n",
      "---------------------------------------------------------------------------------\n",
      "h=10 | difference quotient: -2.20822977017925 | Full Equation: 1/10*tan(121) - 1/10*tan(1) | Error: 2.20822977017925\n",
      "---------------------------------------------------------------------------------\n",
      "h=100 | difference quotient: -0.0130349928956539 | Full Equation: 1/100*tan(10201) - 1/100*tan(1) | Error: 0.0130349928956539\n",
      "---------------------------------------------------------------------------------\n",
      "h=1000 | difference quotient: -0.00217338467683533 | Full Equation: 1/1000*tan(1002001) - 1/1000*tan(1) | Error: 0.00217338467683533\n",
      "---------------------------------------------------------------------------------\n",
      "h=10000 | difference quotient: -0.000110811003800990 | Full Equation: 1/10000*tan(100020001) - 1/10000*tan(1) | Error: 0.000110811003800990\n",
      "---------------------------------------------------------------------------------\n",
      "h=100000 | difference quotient: -0.0000111172714268797 | Full Equation: 1/100000*tan(10000200001) - 1/100000*tan(1) | Error: 0.0000111172714268797\n",
      "---------------------------------------------------------------------------------\n",
      "h=1000000 | difference quotient: -1.94844154272010e-6 | Full Equation: 1/1000000*tan(1000002000001) - 1/1000000*tan(1) | Error: 1.94844154272010e-6\n",
      "---------------------------------------------------------------------------------\n",
      "h=10000000 | difference quotient: -1.20043643001643e-7 | Full Equation: 1/10000000*tan(100000020000001) - 1/10000000*tan(1) | Error: 1.20043643001643e-7\n",
      "---------------------------------------------------------------------------------\n"
     ]
    },
    {
     "name": "stderr",
     "output_type": "stream",
     "text": [
      "/opt/sagemath-9.2/local/lib/python3.7/site-packages/sage/repl/ipython_kernel/__main__.py:20: DeprecationWarning: Substitution using function-call syntax and unnamed arguments is deprecated and will be removed from a future release of Sage; you can use named arguments instead, like EXPR(x=..., y=...)\n",
      "See http://trac.sagemath.org/5930 for details.\n"
     ]
    }
   ],
   "source": [
    "# Make a table for h = 10^-1 .. 10^-8 to calculate error\n",
    "\n",
    "def make_table(f, smallest_step_size=-4, correct=None):\n",
    "    \n",
    "    for power in range(-1*smallest_step_size):\n",
    "        \n",
    "        h = 10**power\n",
    "        x = 0\n",
    "        diff = (f(x + h) - f(x)) / h\n",
    "        \n",
    "        if correct != None:\n",
    "            error = correct - diff.n()\n",
    "            print(f\"h={h} | difference quotient: {diff.n()} | Full Equation: {diff} | Error: {error}\")\n",
    "            print(\"---------------------------------------------------------------------------------\")\n",
    "            \n",
    "        else:\n",
    "            print(f\"h={h} | difference quotient: {diff.n()} | Full Equation: {diff}\")\n",
    "            print(\"---------------------------------------------------------------------------------\")\n",
    "            \n",
    "make_table(f(x), -8, correct=ddx_at_zero)\n"
   ]
  }
 ],
 "metadata": {
  "kernelspec": {
   "display_name": "SageMath 9.2",
   "language": "sage",
   "name": "sagemath"
  },
  "language_info": {
   "codemirror_mode": {
    "name": "ipython",
    "version": 3
   },
   "file_extension": ".py",
   "mimetype": "text/x-python",
   "name": "python",
   "nbconvert_exporter": "python",
   "pygments_lexer": "ipython3",
   "version": "3.7.7"
  }
 },
 "nbformat": 4,
 "nbformat_minor": 4
}
