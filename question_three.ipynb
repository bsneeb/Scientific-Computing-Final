{
 "cells": [
  {
   "cell_type": "code",
   "execution_count": 1,
   "metadata": {},
   "outputs": [
    {
     "data": {
      "text/plain": [
       "\"\\n    Brady Neeb\\n    bneeb@mail.smcvt.edu\\n    Final Question #3\\n    Give a table for the errors in the integrals:\\n        i) cos(x) [0 .. pi/4]\\n        ii) sqrt(x) [1 .. 100]\\n    Use n=1 .. n=10^6 many intervals.\\n    Then, for each, compare the change in error to that predicted by our theoretical result\\n    a) Use the Midpoint rule\\n    b) Use the Trapezoid rule\\n    c) Use Simpson's rule\\n\""
      ]
     },
     "execution_count": 1,
     "metadata": {},
     "output_type": "execute_result"
    }
   ],
   "source": [
    "'''\n",
    "    Brady Neeb\n",
    "    bneeb@mail.smcvt.edu\n",
    "    Final Question #3\n",
    "    Give a table for the errors in the integrals:\n",
    "        i) cos(x) [0 .. pi/4]\n",
    "        ii) sqrt(x) [1 .. 100]\n",
    "    Use n=1 .. n=10^6 many intervals.\n",
    "    Then, for each, compare the change in error to that predicted by our theoretical result\n",
    "    a) Use the Midpoint rule\n",
    "    b) Use the Trapezoid rule\n",
    "    c) Use Simpson's rule\n",
    "'''"
   ]
  },
  {
   "cell_type": "code",
   "execution_count": 114,
   "metadata": {},
   "outputs": [],
   "source": [
    "# First, make the integration functions\n",
    "import numpy as np\n",
    "\n",
    "def midpoint(a, b):\n",
    "    return (a+b)/2\n",
    "\n",
    "def integral(f, a, b, n, choose_xi=midpoint):\n",
    "    ''' Params:\n",
    "            f: Function to be calculated\n",
    "            a: Starting point of the interval\n",
    "            b: Ending point of the interval\n",
    "            n: Size of area to be calculated \n",
    "            choose_xi: Choice of calculation method.\n",
    "    '''\n",
    " \n",
    "    h = (b-a) / n\n",
    "    int_start = a\n",
    "    int_end = a + h\n",
    "    total = 0\n",
    "    \n",
    "    for i in range(0, n):\n",
    "        \n",
    "        subinterval_start = a+i*h\n",
    "        subinterval_end = subinterval_start + h\n",
    "        \n",
    "        if choose_xi == simpsons:\n",
    "            xi = choose_xi(f, subinterval_start, subinterval_end, n)\n",
    "            \n",
    "        elif choose_xi == trapezoid:\n",
    "            xi = choose_xi(subinterval_start, subinterval_end, n)\n",
    "            \n",
    "        else: \n",
    "            xi = choose_xi(subinterval_start, subinterval_end)\n",
    "            \n",
    "        total = total + f(xi) * h\n",
    "        \n",
    "    return total.n()\n",
    "\n",
    "\n",
    "def trapezoid(f, a, b, n):\n",
    "    h = float(b-a)/n\n",
    "    result = 0.5*f(a) + 0.5*f(b)\n",
    "    for i in range(1, n):\n",
    "        result += f(a + i*h)\n",
    "    result *= h\n",
    "    return result.n()\n",
    "\n",
    "\n",
    "def simpsons(f, a, b, n):\n",
    "    if a > b:\n",
    "        print('Incorrect bounds')\n",
    "        return None\n",
    "    if n%2 != 0: # also an 'if' because both tests are NOT\n",
    "        # mutually exclusive\n",
    "        print('Invalid choice of n')\n",
    "        return None\n",
    "    else:\n",
    "        h = (b - a)/float(n) # need to cast 'n' as float in order to avoid\n",
    "        # integer division\n",
    "        sum1 = 0\n",
    "        for i in range(1, n/2 + 1):\n",
    "            sum1 += f(a + (2*i - 1)*h)\n",
    "        sum1 *= 4\n",
    "        sum2 = 0\n",
    "        for i in range(1, n/2): # range must be ints: range() integer \n",
    "            #end argument expected, got float.\n",
    "            sum2 += f(a + 2*i*h)\n",
    "        sum2 *= 2\n",
    "        approx = (b - a)/(3.0*n)*(f(a) + f(b) + sum1 + sum2)\n",
    "        return approx.n()"
   ]
  },
  {
   "cell_type": "code",
   "execution_count": null,
   "metadata": {},
   "outputs": [],
   "source": [
    "INTEGRAL_TABLE_TOLERANCE = n(10^(-10))\n",
    "def generate_integral_table(f, a, b, choose_xi=midpoint, smallest_mag_step_size=-6, correct=None):\n",
    "    for power in range(-1*smallest_mag_step_size):\n",
    "        num_ints = 10**power\n",
    "        estimate = integral(f, a, b, num_ints, choose_xi)\n",
    "        print(\"n=\",num_ints,\" | integral estimate =\", estimate, \" |\")\n",
    "        if correct:\n",
    "            print(\"  error=\", estimate-correct)\n",
    "            if (estimate and (abs(estimate - correct)) < INTEGRAL_TABLE_TOLERANCE):\n",
    "                print(\"  Estimate and correct value are within \", INTEGRAL_TABLE_TOLERANCE)\n",
    "                break\n",
    "        print(\"-----------------------------------------\")\n",
    "        \n",
    "def generate_trapezoid_table(f, a, b, smallest_mag_step_size=-6, correct=None):\n",
    "    for power in range(-1*smallest_mag_step_size):\n",
    "        num_ints = 10**power\n",
    "        estimate = trapezoid(f, a, b, num_ints)\n",
    "        print(\"n=\",num_ints,\" | integral estimate =\", estimate, \" |\")\n",
    "        if correct:\n",
    "            print(\"  error=\", estimate-correct)\n",
    "            if (estimate and (abs(estimate - correct)) < INTEGRAL_TABLE_TOLERANCE):\n",
    "                print(\"  Estimate and correct value are within \", INTEGRAL_TABLE_TOLERANCE)\n",
    "                break\n",
    "        print(\"-----------------------------------------\")\n",
    "        \n",
    "        \n",
    "def generate_simpsons_table(f, a, b, smallest_mag_step_size=-6, correct=None):\n",
    "    for power in range(-1*smallest_mag_step_size):\n",
    "        num_ints = 10**power\n",
    "        estimate = simpsons(f, a, b, num_ints)\n",
    "        print(\"n=\",num_ints,\" | integral estimate =\", estimate, \" |\")\n",
    "        if correct:\n",
    "            print(\"  error=\", estimate-correct)\n",
    "            if (estimate and (abs(estimate - correct)) < INTEGRAL_TABLE_TOLERANCE):\n",
    "                print(\"  Estimate and correct value are within \", INTEGRAL_TABLE_TOLERANCE)\n",
    "                break\n",
    "        print(\"-----------------------------------------\")\n",
    "          \n",
    "          "
   ]
  },
  {
   "cell_type": "code",
   "execution_count": 58,
   "metadata": {
    "scrolled": true
   },
   "outputs": [
    {
     "name": "stdout",
     "output_type": "stream",
     "text": [
      "n= 1  | integral estimate = 0.725613288034858  |\n",
      "  error= 0.0185065068483102\n",
      "-----------------------------------------\n",
      "n= 10  | integral estimate = 0.707288555144981  |\n",
      "  error= 0.000181773958433551\n",
      "-----------------------------------------\n",
      "n= 100  | integral estimate = 0.707108598602370  |\n",
      "  error= 1.81741582216954e-6\n",
      "-----------------------------------------\n",
      "n= 1000  | integral estimate = 0.707106799360674  |\n",
      "  error= 1.81741266480628e-8\n",
      "-----------------------------------------\n"
     ]
    },
    {
     "name": "stderr",
     "output_type": "stream",
     "text": [
      "/opt/sagemath-9.2/local/lib/python3.7/site-packages/sage/repl/ipython_kernel/__main__.py:5: DeprecationWarning: Substitution using function-call syntax and unnamed arguments is deprecated and will be removed from a future release of Sage; you can use named arguments instead, like EXPR(x=..., y=...)\n",
      "See http://trac.sagemath.org/5930 for details.\n"
     ]
    }
   ],
   "source": [
    "# cos(x) on range [0 .. pi/4] with n = [1 .. 10^6] many intervals\n",
    "\n",
    "# Midpoint\n",
    "f = cos(x)\n",
    "a = 0\n",
    "b = pi/4\n",
    "choose_xi = midpoint\n",
    "correct = 0.7071067811865475\n",
    "\n",
    "generate_integral_table(f, a, b, choose_xi, smallest_mag_step_size=-4, correct=correct)\n"
   ]
  },
  {
   "cell_type": "code",
   "execution_count": 61,
   "metadata": {},
   "outputs": [
    {
     "name": "stdout",
     "output_type": "stream",
     "text": [
      "0.707103146357707\n"
     ]
    },
    {
     "name": "stderr",
     "output_type": "stream",
     "text": [
      "/opt/sagemath-9.2/local/lib/python3.7/site-packages/sage/repl/ipython_kernel/__main__.py:1: DeprecationWarning: Substitution using function-call syntax and unnamed arguments is deprecated and will be removed from a future release of Sage; you can use named arguments instead, like EXPR(x=..., y=...)\n",
      "See http://trac.sagemath.org/5930 for details.\n",
      "  from ipykernel.kernelapp import IPKernelApp\n"
     ]
    }
   ],
   "source": [
    "print(trapezoid(f, a, b, 100))"
   ]
  },
  {
   "cell_type": "code",
   "execution_count": 60,
   "metadata": {},
   "outputs": [
    {
     "name": "stdout",
     "output_type": "stream",
     "text": [
      "n= 1  | integral estimate = 0.670379265333622  |\n",
      "  error= -0.0367275158529254\n",
      "-----------------------------------------\n",
      "n= 10  | integral estimate = 0.706743261301613  |\n",
      "  error= -0.000363519884934771\n",
      "-----------------------------------------\n",
      "n= 100  | integral estimate = 0.707103146357707  |\n",
      "  error= -3.63482884080391e-6\n",
      "-----------------------------------------\n",
      "n= 1000  | integral estimate = 0.707106744838295  |\n",
      "  error= -3.63482528520365e-8\n",
      "-----------------------------------------\n"
     ]
    },
    {
     "name": "stderr",
     "output_type": "stream",
     "text": [
      "/opt/sagemath-9.2/local/lib/python3.7/site-packages/sage/repl/ipython_kernel/__main__.py:17: DeprecationWarning: Substitution using function-call syntax and unnamed arguments is deprecated and will be removed from a future release of Sage; you can use named arguments instead, like EXPR(x=..., y=...)\n",
      "See http://trac.sagemath.org/5930 for details.\n"
     ]
    }
   ],
   "source": [
    "# cos(x) on range [0 .. pi/4] with n = [1 .. 10^6] many intervals\n",
    "\n",
    "# Trapezoid\n",
    "f = cos(x)\n",
    "a = 0\n",
    "b = pi/4\n",
    "correct = 0.7071067811865475\n",
    "\n",
    "generate_trapezoid_table(f, a, b, smallest_mag_step_size=-4, correct=correct)"
   ]
  },
  {
   "cell_type": "code",
   "execution_count": 109,
   "metadata": {},
   "outputs": [
    {
     "name": "stdout",
     "output_type": "stream",
     "text": [
      "0.707106781201495\n"
     ]
    },
    {
     "name": "stderr",
     "output_type": "stream",
     "text": [
      "/opt/sagemath-9.2/local/lib/python3.7/site-packages/sage/repl/ipython_kernel/__main__.py:1: DeprecationWarning: Substitution using function-call syntax and unnamed arguments is deprecated and will be removed from a future release of Sage; you can use named arguments instead, like EXPR(x=..., y=...)\n",
      "See http://trac.sagemath.org/5930 for details.\n",
      "  from ipykernel.kernelapp import IPKernelApp\n"
     ]
    }
   ],
   "source": [
    "print(simpsons(f, a, b, 100).n())"
   ]
  },
  {
   "cell_type": "code",
   "execution_count": 130,
   "metadata": {
    "scrolled": false
   },
   "outputs": [
    {
     "name": "stdout",
     "output_type": "stream",
     "text": [
      "Invalid choice of n\n",
      "n= 1  | integral estimate = None  |\n",
      "-----------------------------------------\n",
      "n= 10  | integral estimate = 0.707106930772577  |\n",
      "-----------------------------------------\n",
      "n= 100  | integral estimate = 0.707106781201495  |\n",
      "-----------------------------------------\n",
      "n= 1000  | integral estimate = 0.707106781186550  |\n",
      "-----------------------------------------\n"
     ]
    },
    {
     "name": "stderr",
     "output_type": "stream",
     "text": [
      "/opt/sagemath-9.2/local/lib/python3.7/site-packages/sage/repl/ipython_kernel/__main__.py:30: DeprecationWarning: Substitution using function-call syntax and unnamed arguments is deprecated and will be removed from a future release of Sage; you can use named arguments instead, like EXPR(x=..., y=...)\n",
      "See http://trac.sagemath.org/5930 for details.\n"
     ]
    },
    {
     "name": "stdout",
     "output_type": "stream",
     "text": [
      "n= 10000  | integral estimate = 0.707106781186545  |\n",
      "-----------------------------------------\n"
     ]
    },
    {
     "ename": "KeyboardInterrupt",
     "evalue": "",
     "output_type": "error",
     "traceback": [
      "\u001b[0;31m---------------------------------------------------------------------------\u001b[0m",
      "\u001b[0;31mKeyboardInterrupt\u001b[0m                         Traceback (most recent call last)",
      "\u001b[0;32m<ipython-input-130-14cb4c244662>\u001b[0m in \u001b[0;36m<module>\u001b[0;34m\u001b[0m\n\u001b[1;32m      7\u001b[0m \u001b[0mcorrect\u001b[0m \u001b[0;34m=\u001b[0m \u001b[0mRealNumber\u001b[0m\u001b[0;34m(\u001b[0m\u001b[0;34m'0.7071067811865475'\u001b[0m\u001b[0;34m)\u001b[0m\u001b[0;34m\u001b[0m\u001b[0;34m\u001b[0m\u001b[0m\n\u001b[1;32m      8\u001b[0m \u001b[0;34m\u001b[0m\u001b[0m\n\u001b[0;32m----> 9\u001b[0;31m \u001b[0mgenerate_simpsons_table\u001b[0m\u001b[0;34m(\u001b[0m\u001b[0mf\u001b[0m\u001b[0;34m,\u001b[0m \u001b[0ma\u001b[0m\u001b[0;34m,\u001b[0m \u001b[0mb\u001b[0m\u001b[0;34m,\u001b[0m \u001b[0msmallest_mag_step_size\u001b[0m\u001b[0;34m=\u001b[0m\u001b[0;34m-\u001b[0m\u001b[0mInteger\u001b[0m\u001b[0;34m(\u001b[0m\u001b[0;36m4\u001b[0m\u001b[0;34m)\u001b[0m\u001b[0;34m)\u001b[0m\u001b[0;34m\u001b[0m\u001b[0;34m\u001b[0m\u001b[0m\n\u001b[0m",
      "\u001b[0;32m<ipython-input-121-a12439cb33a4>\u001b[0m in \u001b[0;36mgenerate_simpsons_table\u001b[0;34m(f, a, b, smallest_mag_step_size, correct)\u001b[0m\n\u001b[1;32m     28\u001b[0m     \u001b[0;32mfor\u001b[0m \u001b[0mpower\u001b[0m \u001b[0;32min\u001b[0m \u001b[0mrange\u001b[0m\u001b[0;34m(\u001b[0m\u001b[0;34m-\u001b[0m\u001b[0mInteger\u001b[0m\u001b[0;34m(\u001b[0m\u001b[0;36m10\u001b[0m\u001b[0;34m)\u001b[0m\u001b[0;34m*\u001b[0m\u001b[0msmallest_mag_step_size\u001b[0m\u001b[0;34m)\u001b[0m\u001b[0;34m:\u001b[0m\u001b[0;34m\u001b[0m\u001b[0;34m\u001b[0m\u001b[0m\n\u001b[1;32m     29\u001b[0m         \u001b[0mnum_ints\u001b[0m \u001b[0;34m=\u001b[0m \u001b[0mInteger\u001b[0m\u001b[0;34m(\u001b[0m\u001b[0;36m10\u001b[0m\u001b[0;34m)\u001b[0m\u001b[0;34m**\u001b[0m\u001b[0mpower\u001b[0m\u001b[0;34m\u001b[0m\u001b[0;34m\u001b[0m\u001b[0m\n\u001b[0;32m---> 30\u001b[0;31m         \u001b[0mestimate\u001b[0m \u001b[0;34m=\u001b[0m \u001b[0msimpsons\u001b[0m\u001b[0;34m(\u001b[0m\u001b[0mf\u001b[0m\u001b[0;34m,\u001b[0m \u001b[0ma\u001b[0m\u001b[0;34m,\u001b[0m \u001b[0mb\u001b[0m\u001b[0;34m,\u001b[0m \u001b[0mnum_ints\u001b[0m\u001b[0;34m)\u001b[0m\u001b[0;34m\u001b[0m\u001b[0;34m\u001b[0m\u001b[0m\n\u001b[0m\u001b[1;32m     31\u001b[0m         \u001b[0mprint\u001b[0m\u001b[0;34m(\u001b[0m\u001b[0;34m\"n=\"\u001b[0m\u001b[0;34m,\u001b[0m\u001b[0mnum_ints\u001b[0m\u001b[0;34m,\u001b[0m\u001b[0;34m\" | integral estimate =\"\u001b[0m\u001b[0;34m,\u001b[0m \u001b[0mestimate\u001b[0m\u001b[0;34m,\u001b[0m \u001b[0;34m\" |\"\u001b[0m\u001b[0;34m)\u001b[0m\u001b[0;34m\u001b[0m\u001b[0;34m\u001b[0m\u001b[0m\n\u001b[1;32m     32\u001b[0m         \u001b[0;32mif\u001b[0m \u001b[0mcorrect\u001b[0m\u001b[0;34m:\u001b[0m\u001b[0;34m\u001b[0m\u001b[0;34m\u001b[0m\u001b[0m\n",
      "\u001b[0;32m<ipython-input-114-4849216a4774>\u001b[0m in \u001b[0;36msimpsons\u001b[0;34m(f, a, b, n)\u001b[0m\n\u001b[1;32m     60\u001b[0m         \u001b[0msum1\u001b[0m \u001b[0;34m=\u001b[0m \u001b[0mInteger\u001b[0m\u001b[0;34m(\u001b[0m\u001b[0;36m0\u001b[0m\u001b[0;34m)\u001b[0m\u001b[0;34m\u001b[0m\u001b[0;34m\u001b[0m\u001b[0m\n\u001b[1;32m     61\u001b[0m         \u001b[0;32mfor\u001b[0m \u001b[0mi\u001b[0m \u001b[0;32min\u001b[0m \u001b[0mrange\u001b[0m\u001b[0;34m(\u001b[0m\u001b[0mInteger\u001b[0m\u001b[0;34m(\u001b[0m\u001b[0;36m1\u001b[0m\u001b[0;34m)\u001b[0m\u001b[0;34m,\u001b[0m \u001b[0mn\u001b[0m\u001b[0;34m/\u001b[0m\u001b[0mInteger\u001b[0m\u001b[0;34m(\u001b[0m\u001b[0;36m2\u001b[0m\u001b[0;34m)\u001b[0m \u001b[0;34m+\u001b[0m \u001b[0mInteger\u001b[0m\u001b[0;34m(\u001b[0m\u001b[0;36m1\u001b[0m\u001b[0;34m)\u001b[0m\u001b[0;34m)\u001b[0m\u001b[0;34m:\u001b[0m\u001b[0;34m\u001b[0m\u001b[0;34m\u001b[0m\u001b[0m\n\u001b[0;32m---> 62\u001b[0;31m             \u001b[0msum1\u001b[0m \u001b[0;34m+=\u001b[0m \u001b[0mf\u001b[0m\u001b[0;34m(\u001b[0m\u001b[0ma\u001b[0m \u001b[0;34m+\u001b[0m \u001b[0;34m(\u001b[0m\u001b[0mInteger\u001b[0m\u001b[0;34m(\u001b[0m\u001b[0;36m2\u001b[0m\u001b[0;34m)\u001b[0m\u001b[0;34m*\u001b[0m\u001b[0mi\u001b[0m \u001b[0;34m-\u001b[0m \u001b[0mInteger\u001b[0m\u001b[0;34m(\u001b[0m\u001b[0;36m1\u001b[0m\u001b[0;34m)\u001b[0m\u001b[0;34m)\u001b[0m\u001b[0;34m*\u001b[0m\u001b[0mh\u001b[0m\u001b[0;34m)\u001b[0m\u001b[0;34m\u001b[0m\u001b[0;34m\u001b[0m\u001b[0m\n\u001b[0m\u001b[1;32m     63\u001b[0m         \u001b[0msum1\u001b[0m \u001b[0;34m*=\u001b[0m \u001b[0mInteger\u001b[0m\u001b[0;34m(\u001b[0m\u001b[0;36m4\u001b[0m\u001b[0;34m)\u001b[0m\u001b[0;34m\u001b[0m\u001b[0;34m\u001b[0m\u001b[0m\n\u001b[1;32m     64\u001b[0m         \u001b[0msum2\u001b[0m \u001b[0;34m=\u001b[0m \u001b[0mInteger\u001b[0m\u001b[0;34m(\u001b[0m\u001b[0;36m0\u001b[0m\u001b[0;34m)\u001b[0m\u001b[0;34m\u001b[0m\u001b[0;34m\u001b[0m\u001b[0m\n",
      "\u001b[0;32msrc/cysignals/signals.pyx\u001b[0m in \u001b[0;36mcysignals.signals.python_check_interrupt\u001b[0;34m()\u001b[0m\n",
      "\u001b[0;31mKeyboardInterrupt\u001b[0m: "
     ]
    }
   ],
   "source": [
    "# cos(x) on range [0 .. pi/4] with n = [1 .. 10^6] many intervals\n",
    "\n",
    "# Simpsons\n",
    "f = cos(x)\n",
    "a = 0\n",
    "b = pi/4\n",
    "correct = 0.7071067811865475\n",
    "\n",
    "generate_simpsons_table(f, a, b, smallest_mag_step_size=-4)"
   ]
  },
  {
   "cell_type": "code",
   "execution_count": 131,
   "metadata": {},
   "outputs": [
    {
     "name": "stdout",
     "output_type": "stream",
     "text": [
      "n= 1  | integral estimate = 703.527184975819  |\n",
      "  error= 37.5271849758188\n",
      "-----------------------------------------\n",
      "n= 10  | integral estimate = 667.229020770986  |\n",
      "  error= 1.22902077098593\n",
      "-----------------------------------------\n",
      "n= 100  | integral estimate = 666.018006088316  |\n",
      "  error= 0.0180060883161559\n",
      "-----------------------------------------\n",
      "n= 1000  | integral estimate = 666.000183725071  |\n",
      "  error= 0.000183725071451590\n",
      "-----------------------------------------\n"
     ]
    },
    {
     "name": "stderr",
     "output_type": "stream",
     "text": [
      "/opt/sagemath-9.2/local/lib/python3.7/site-packages/sage/repl/ipython_kernel/__main__.py:5: DeprecationWarning: Substitution using function-call syntax and unnamed arguments is deprecated and will be removed from a future release of Sage; you can use named arguments instead, like EXPR(x=..., y=...)\n",
      "See http://trac.sagemath.org/5930 for details.\n"
     ]
    }
   ],
   "source": [
    "# sqrt(x) from x=[1 .. 100] on n=[1 .. 10^6] many intervals.\n",
    "\n",
    "# Midpoint\n",
    "f = sqrt(x)\n",
    "a = 1\n",
    "b = 100\n",
    "choose_xi = midpoint\n",
    "correct = 666\n",
    "\n",
    "generate_integral_table(f, a, b, choose_xi, smallest_mag_step_size=-4, correct=correct)"
   ]
  },
  {
   "cell_type": "code",
   "execution_count": 132,
   "metadata": {},
   "outputs": [
    {
     "name": "stdout",
     "output_type": "stream",
     "text": [
      "n= 1  | integral estimate = 544.500000000000  |\n",
      "  error= -121.500000000000\n",
      "-----------------------------------------\n",
      "n= 10  | integral estimate = 663.150739425359  |\n",
      "  error= -2.84926057464133\n",
      "-----------------------------------------\n",
      "n= 100  | integral estimate = 665.963676764804  |\n",
      "  error= -0.0363232351963916\n",
      "-----------------------------------------\n",
      "n= 1000  | integral estimate = 665.999632512429  |\n",
      "  error= -0.000367487571224956\n",
      "-----------------------------------------\n"
     ]
    },
    {
     "name": "stderr",
     "output_type": "stream",
     "text": [
      "/opt/sagemath-9.2/local/lib/python3.7/site-packages/sage/repl/ipython_kernel/__main__.py:17: DeprecationWarning: Substitution using function-call syntax and unnamed arguments is deprecated and will be removed from a future release of Sage; you can use named arguments instead, like EXPR(x=..., y=...)\n",
      "See http://trac.sagemath.org/5930 for details.\n"
     ]
    }
   ],
   "source": [
    "# Trapezoid\n",
    "f = sqrt(x)\n",
    "a = 1\n",
    "b = 100\n",
    "correct = 666\n",
    "\n",
    "generate_trapezoid_table(f, a, b, smallest_mag_step_size=-4, correct=correct)"
   ]
  },
  {
   "cell_type": "code",
   "execution_count": 133,
   "metadata": {},
   "outputs": [
    {
     "name": "stdout",
     "output_type": "stream",
     "text": [
      "Invalid choice of n\n",
      "n= 1  | integral estimate = None  |\n",
      "-----------------------------------------\n",
      "n= 10  | integral estimate = 665.346942198482  |\n",
      "-----------------------------------------\n",
      "n= 100  | integral estimate = 665.998787275455  |\n",
      "-----------------------------------------\n",
      "n= 1000  | integral estimate = 665.999999801872  |\n",
      "-----------------------------------------\n"
     ]
    },
    {
     "name": "stderr",
     "output_type": "stream",
     "text": [
      "/opt/sagemath-9.2/local/lib/python3.7/site-packages/sage/repl/ipython_kernel/__main__.py:30: DeprecationWarning: Substitution using function-call syntax and unnamed arguments is deprecated and will be removed from a future release of Sage; you can use named arguments instead, like EXPR(x=..., y=...)\n",
      "See http://trac.sagemath.org/5930 for details.\n"
     ]
    },
    {
     "name": "stdout",
     "output_type": "stream",
     "text": [
      "n= 10000  | integral estimate = 665.999999999981  |\n",
      "-----------------------------------------\n",
      "n= 100000  | integral estimate = 666.000000000002  |\n",
      "-----------------------------------------\n"
     ]
    },
    {
     "ename": "KeyboardInterrupt",
     "evalue": "",
     "output_type": "error",
     "traceback": [
      "\u001b[0;31m---------------------------------------------------------------------------\u001b[0m",
      "\u001b[0;31mKeyboardInterrupt\u001b[0m                         Traceback (most recent call last)",
      "\u001b[0;32m<ipython-input-133-a3f25b3ce7b2>\u001b[0m in \u001b[0;36m<module>\u001b[0;34m\u001b[0m\n\u001b[1;32m      5\u001b[0m \u001b[0mcorrect\u001b[0m \u001b[0;34m=\u001b[0m \u001b[0mInteger\u001b[0m\u001b[0;34m(\u001b[0m\u001b[0;36m666\u001b[0m\u001b[0;34m)\u001b[0m\u001b[0;34m\u001b[0m\u001b[0;34m\u001b[0m\u001b[0m\n\u001b[1;32m      6\u001b[0m \u001b[0;34m\u001b[0m\u001b[0m\n\u001b[0;32m----> 7\u001b[0;31m \u001b[0mgenerate_simpsons_table\u001b[0m\u001b[0;34m(\u001b[0m\u001b[0mf\u001b[0m\u001b[0;34m,\u001b[0m \u001b[0ma\u001b[0m\u001b[0;34m,\u001b[0m \u001b[0mb\u001b[0m\u001b[0;34m,\u001b[0m \u001b[0msmallest_mag_step_size\u001b[0m\u001b[0;34m=\u001b[0m\u001b[0;34m-\u001b[0m\u001b[0mInteger\u001b[0m\u001b[0;34m(\u001b[0m\u001b[0;36m4\u001b[0m\u001b[0;34m)\u001b[0m\u001b[0;34m)\u001b[0m\u001b[0;34m\u001b[0m\u001b[0;34m\u001b[0m\u001b[0m\n\u001b[0m",
      "\u001b[0;32m<ipython-input-121-a12439cb33a4>\u001b[0m in \u001b[0;36mgenerate_simpsons_table\u001b[0;34m(f, a, b, smallest_mag_step_size, correct)\u001b[0m\n\u001b[1;32m     28\u001b[0m     \u001b[0;32mfor\u001b[0m \u001b[0mpower\u001b[0m \u001b[0;32min\u001b[0m \u001b[0mrange\u001b[0m\u001b[0;34m(\u001b[0m\u001b[0;34m-\u001b[0m\u001b[0mInteger\u001b[0m\u001b[0;34m(\u001b[0m\u001b[0;36m10\u001b[0m\u001b[0;34m)\u001b[0m\u001b[0;34m*\u001b[0m\u001b[0msmallest_mag_step_size\u001b[0m\u001b[0;34m)\u001b[0m\u001b[0;34m:\u001b[0m\u001b[0;34m\u001b[0m\u001b[0;34m\u001b[0m\u001b[0m\n\u001b[1;32m     29\u001b[0m         \u001b[0mnum_ints\u001b[0m \u001b[0;34m=\u001b[0m \u001b[0mInteger\u001b[0m\u001b[0;34m(\u001b[0m\u001b[0;36m10\u001b[0m\u001b[0;34m)\u001b[0m\u001b[0;34m**\u001b[0m\u001b[0mpower\u001b[0m\u001b[0;34m\u001b[0m\u001b[0;34m\u001b[0m\u001b[0m\n\u001b[0;32m---> 30\u001b[0;31m         \u001b[0mestimate\u001b[0m \u001b[0;34m=\u001b[0m \u001b[0msimpsons\u001b[0m\u001b[0;34m(\u001b[0m\u001b[0mf\u001b[0m\u001b[0;34m,\u001b[0m \u001b[0ma\u001b[0m\u001b[0;34m,\u001b[0m \u001b[0mb\u001b[0m\u001b[0;34m,\u001b[0m \u001b[0mnum_ints\u001b[0m\u001b[0;34m)\u001b[0m\u001b[0;34m\u001b[0m\u001b[0;34m\u001b[0m\u001b[0m\n\u001b[0m\u001b[1;32m     31\u001b[0m         \u001b[0mprint\u001b[0m\u001b[0;34m(\u001b[0m\u001b[0;34m\"n=\"\u001b[0m\u001b[0;34m,\u001b[0m\u001b[0mnum_ints\u001b[0m\u001b[0;34m,\u001b[0m\u001b[0;34m\" | integral estimate =\"\u001b[0m\u001b[0;34m,\u001b[0m \u001b[0mestimate\u001b[0m\u001b[0;34m,\u001b[0m \u001b[0;34m\" |\"\u001b[0m\u001b[0;34m)\u001b[0m\u001b[0;34m\u001b[0m\u001b[0;34m\u001b[0m\u001b[0m\n\u001b[1;32m     32\u001b[0m         \u001b[0;32mif\u001b[0m \u001b[0mcorrect\u001b[0m\u001b[0;34m:\u001b[0m\u001b[0;34m\u001b[0m\u001b[0;34m\u001b[0m\u001b[0m\n",
      "\u001b[0;32m<ipython-input-114-4849216a4774>\u001b[0m in \u001b[0;36msimpsons\u001b[0;34m(f, a, b, n)\u001b[0m\n\u001b[1;32m     60\u001b[0m         \u001b[0msum1\u001b[0m \u001b[0;34m=\u001b[0m \u001b[0mInteger\u001b[0m\u001b[0;34m(\u001b[0m\u001b[0;36m0\u001b[0m\u001b[0;34m)\u001b[0m\u001b[0;34m\u001b[0m\u001b[0;34m\u001b[0m\u001b[0m\n\u001b[1;32m     61\u001b[0m         \u001b[0;32mfor\u001b[0m \u001b[0mi\u001b[0m \u001b[0;32min\u001b[0m \u001b[0mrange\u001b[0m\u001b[0;34m(\u001b[0m\u001b[0mInteger\u001b[0m\u001b[0;34m(\u001b[0m\u001b[0;36m1\u001b[0m\u001b[0;34m)\u001b[0m\u001b[0;34m,\u001b[0m \u001b[0mn\u001b[0m\u001b[0;34m/\u001b[0m\u001b[0mInteger\u001b[0m\u001b[0;34m(\u001b[0m\u001b[0;36m2\u001b[0m\u001b[0;34m)\u001b[0m \u001b[0;34m+\u001b[0m \u001b[0mInteger\u001b[0m\u001b[0;34m(\u001b[0m\u001b[0;36m1\u001b[0m\u001b[0;34m)\u001b[0m\u001b[0;34m)\u001b[0m\u001b[0;34m:\u001b[0m\u001b[0;34m\u001b[0m\u001b[0;34m\u001b[0m\u001b[0m\n\u001b[0;32m---> 62\u001b[0;31m             \u001b[0msum1\u001b[0m \u001b[0;34m+=\u001b[0m \u001b[0mf\u001b[0m\u001b[0;34m(\u001b[0m\u001b[0ma\u001b[0m \u001b[0;34m+\u001b[0m \u001b[0;34m(\u001b[0m\u001b[0mInteger\u001b[0m\u001b[0;34m(\u001b[0m\u001b[0;36m2\u001b[0m\u001b[0;34m)\u001b[0m\u001b[0;34m*\u001b[0m\u001b[0mi\u001b[0m \u001b[0;34m-\u001b[0m \u001b[0mInteger\u001b[0m\u001b[0;34m(\u001b[0m\u001b[0;36m1\u001b[0m\u001b[0;34m)\u001b[0m\u001b[0;34m)\u001b[0m\u001b[0;34m*\u001b[0m\u001b[0mh\u001b[0m\u001b[0;34m)\u001b[0m\u001b[0;34m\u001b[0m\u001b[0;34m\u001b[0m\u001b[0m\n\u001b[0m\u001b[1;32m     63\u001b[0m         \u001b[0msum1\u001b[0m \u001b[0;34m*=\u001b[0m \u001b[0mInteger\u001b[0m\u001b[0;34m(\u001b[0m\u001b[0;36m4\u001b[0m\u001b[0;34m)\u001b[0m\u001b[0;34m\u001b[0m\u001b[0;34m\u001b[0m\u001b[0m\n\u001b[1;32m     64\u001b[0m         \u001b[0msum2\u001b[0m \u001b[0;34m=\u001b[0m \u001b[0mInteger\u001b[0m\u001b[0;34m(\u001b[0m\u001b[0;36m0\u001b[0m\u001b[0;34m)\u001b[0m\u001b[0;34m\u001b[0m\u001b[0;34m\u001b[0m\u001b[0m\n",
      "\u001b[0;32m/opt/sagemath-9.2/local/lib/python3.7/site-packages/sage/symbolic/expression.pyx\u001b[0m in \u001b[0;36msage.symbolic.expression.Expression.__call__ (build/cythonized/sage/symbolic/expression.cpp:32820)\u001b[0;34m()\u001b[0m\n\u001b[1;32m   5563\u001b[0m             \u001b[0mz\u001b[0m\u001b[0;34m^\u001b[0m\u001b[0;36m2\u001b[0m \u001b[0;34m+\u001b[0m \u001b[0mx\u001b[0m\u001b[0;34m^\u001b[0m\u001b[0my\u001b[0m\u001b[0;34m\u001b[0m\u001b[0;34m\u001b[0m\u001b[0m\n\u001b[1;32m   5564\u001b[0m         \"\"\"\n\u001b[0;32m-> 5565\u001b[0;31m         \u001b[0;32mreturn\u001b[0m \u001b[0mself\u001b[0m\u001b[0;34m.\u001b[0m\u001b[0m_parent\u001b[0m\u001b[0;34m.\u001b[0m\u001b[0m_call_element_\u001b[0m\u001b[0;34m(\u001b[0m\u001b[0mself\u001b[0m\u001b[0;34m,\u001b[0m \u001b[0;34m*\u001b[0m\u001b[0margs\u001b[0m\u001b[0;34m,\u001b[0m \u001b[0;34m**\u001b[0m\u001b[0mkwds\u001b[0m\u001b[0;34m)\u001b[0m\u001b[0;34m\u001b[0m\u001b[0;34m\u001b[0m\u001b[0m\n\u001b[0m\u001b[1;32m   5566\u001b[0m \u001b[0;34m\u001b[0m\u001b[0m\n\u001b[1;32m   5567\u001b[0m     \u001b[0;32mdef\u001b[0m \u001b[0mvariables\u001b[0m\u001b[0;34m(\u001b[0m\u001b[0mself\u001b[0m\u001b[0;34m)\u001b[0m\u001b[0;34m:\u001b[0m\u001b[0;34m\u001b[0m\u001b[0;34m\u001b[0m\u001b[0m\n",
      "\u001b[0;32m/opt/sagemath-9.2/local/lib/python3.7/site-packages/sage/symbolic/ring.pyx\u001b[0m in \u001b[0;36msage.symbolic.ring.SymbolicRing._call_element_ (build/cythonized/sage/symbolic/ring.cpp:11256)\u001b[0;34m()\u001b[0m\n\u001b[1;32m   1004\u001b[0m             \u001b[0md\u001b[0m \u001b[0;34m=\u001b[0m \u001b[0;34m{\u001b[0m\u001b[0;34m}\u001b[0m\u001b[0;34m\u001b[0m\u001b[0;34m\u001b[0m\u001b[0m\n\u001b[1;32m   1005\u001b[0m \u001b[0;34m\u001b[0m\u001b[0m\n\u001b[0;32m-> 1006\u001b[0;31m             \u001b[0mvars\u001b[0m \u001b[0;34m=\u001b[0m \u001b[0m_the_element\u001b[0m\u001b[0;34m.\u001b[0m\u001b[0mvariables\u001b[0m\u001b[0;34m(\u001b[0m\u001b[0;34m)\u001b[0m\u001b[0;34m\u001b[0m\u001b[0;34m\u001b[0m\u001b[0m\n\u001b[0m\u001b[1;32m   1007\u001b[0m             \u001b[0;32mfor\u001b[0m \u001b[0mi\u001b[0m\u001b[0;34m,\u001b[0m \u001b[0marg\u001b[0m \u001b[0;32min\u001b[0m \u001b[0menumerate\u001b[0m\u001b[0;34m(\u001b[0m\u001b[0margs\u001b[0m\u001b[0;34m)\u001b[0m\u001b[0;34m:\u001b[0m\u001b[0;34m\u001b[0m\u001b[0;34m\u001b[0m\u001b[0m\n\u001b[1;32m   1008\u001b[0m                 \u001b[0;32mtry\u001b[0m\u001b[0;34m:\u001b[0m\u001b[0;34m\u001b[0m\u001b[0;34m\u001b[0m\u001b[0m\n",
      "\u001b[0;32m/opt/sagemath-9.2/local/lib/python3.7/site-packages/sage/symbolic/expression.pyx\u001b[0m in \u001b[0;36msage.symbolic.expression.Expression.variables (build/cythonized/sage/symbolic/expression.cpp:32901)\u001b[0;34m()\u001b[0m\n\u001b[1;32m   5582\u001b[0m \u001b[0;34m\u001b[0m\u001b[0m\n\u001b[1;32m   5583\u001b[0m         \"\"\"\n\u001b[0;32m-> 5584\u001b[0;31m         \u001b[0;32mfrom\u001b[0m \u001b[0msage\u001b[0m\u001b[0;34m.\u001b[0m\u001b[0msymbolic\u001b[0m\u001b[0;34m.\u001b[0m\u001b[0mring\u001b[0m \u001b[0;32mimport\u001b[0m \u001b[0mSR\u001b[0m\u001b[0;34m\u001b[0m\u001b[0;34m\u001b[0m\u001b[0m\n\u001b[0m\u001b[1;32m   5585\u001b[0m         \u001b[0;32mfrom\u001b[0m \u001b[0msage\u001b[0m\u001b[0;34m.\u001b[0m\u001b[0msymbolic\u001b[0m\u001b[0;34m.\u001b[0m\u001b[0mcomparison\u001b[0m \u001b[0;32mimport\u001b[0m \u001b[0mprint_sorted\u001b[0m\u001b[0;34m\u001b[0m\u001b[0;34m\u001b[0m\u001b[0m\n\u001b[1;32m   5586\u001b[0m         \u001b[0mcdef\u001b[0m \u001b[0mGExSet\u001b[0m \u001b[0msym_set\u001b[0m\u001b[0;34m\u001b[0m\u001b[0;34m\u001b[0m\u001b[0m\n",
      "\u001b[0;32m/usr/lib/python3.7/importlib/_bootstrap.py\u001b[0m in \u001b[0;36m_handle_fromlist\u001b[0;34m(module, fromlist, import_, recursive)\u001b[0m\n",
      "\u001b[0;32msrc/cysignals/signals.pyx\u001b[0m in \u001b[0;36mcysignals.signals.python_check_interrupt\u001b[0;34m()\u001b[0m\n",
      "\u001b[0;31mKeyboardInterrupt\u001b[0m: "
     ]
    }
   ],
   "source": [
    "# Simpsons\n",
    "f = sqrt(x)\n",
    "a = 1\n",
    "b = 100\n",
    "correct = 666\n",
    "\n",
    "generate_simpsons_table(f, a, b, smallest_mag_step_size=-4)"
   ]
  }
 ],
 "metadata": {
  "kernelspec": {
   "display_name": "SageMath 9.2",
   "language": "sage",
   "name": "sagemath"
  },
  "language_info": {
   "codemirror_mode": {
    "name": "ipython",
    "version": 3
   },
   "file_extension": ".py",
   "mimetype": "text/x-python",
   "name": "python",
   "nbconvert_exporter": "python",
   "pygments_lexer": "ipython3",
   "version": "3.7.7"
  }
 },
 "nbformat": 4,
 "nbformat_minor": 4
}
